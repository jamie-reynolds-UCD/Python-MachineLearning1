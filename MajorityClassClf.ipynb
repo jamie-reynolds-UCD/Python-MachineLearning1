{
 "cells": [
  {
   "cell_type": "markdown",
   "metadata": {},
   "source": [
    "# Majority Class classifier\n",
    "A simple example of a classifier in the `sklearn` framework.   \n",
    "https://sklearn-template.readthedocs.io/en/latest/user_guide.html   \n",
    "This classifier simply identifies the most frequent class and always predicts that.  \n",
    "Implementing the classifier entails defining the `fit` and `predict` methods. "
   ]
  },
  {
   "cell_type": "code",
   "execution_count": 1,
   "metadata": {},
   "outputs": [],
   "source": [
    "import numpy as np\n",
    "import pandas as pd\n",
    "from sklearn.preprocessing import MinMaxScaler\n",
    "from sklearn.model_selection import train_test_split\n",
    "from sklearn.naive_bayes import GaussianNB\n",
    "from sklearn.base import BaseEstimator, ClassifierMixin\n",
    "from collections import Counter\n",
    "from sklearn.utils.estimator_checks import check_estimator\n",
    "from sklearn.model_selection import cross_val_score\n"
   ]
  },
  {
   "cell_type": "code",
   "execution_count": 2,
   "metadata": {},
   "outputs": [
    {
     "name": "stdout",
     "output_type": "stream",
     "text": [
      "(333, 8)\n"
     ]
    },
    {
     "data": {
      "text/html": [
       "<div>\n",
       "<style scoped>\n",
       "    .dataframe tbody tr th:only-of-type {\n",
       "        vertical-align: middle;\n",
       "    }\n",
       "\n",
       "    .dataframe tbody tr th {\n",
       "        vertical-align: top;\n",
       "    }\n",
       "\n",
       "    .dataframe thead th {\n",
       "        text-align: right;\n",
       "    }\n",
       "</style>\n",
       "<table border=\"1\" class=\"dataframe\">\n",
       "  <thead>\n",
       "    <tr style=\"text-align: right;\">\n",
       "      <th></th>\n",
       "      <th>species</th>\n",
       "      <th>island</th>\n",
       "      <th>bill_length_mm</th>\n",
       "      <th>bill_depth_mm</th>\n",
       "      <th>flipper_length_mm</th>\n",
       "      <th>body_mass_g</th>\n",
       "      <th>sex</th>\n",
       "      <th>year</th>\n",
       "    </tr>\n",
       "  </thead>\n",
       "  <tbody>\n",
       "    <tr>\n",
       "      <th>0</th>\n",
       "      <td>Adelie</td>\n",
       "      <td>Torgersen</td>\n",
       "      <td>39.1</td>\n",
       "      <td>18.7</td>\n",
       "      <td>181.0</td>\n",
       "      <td>3750.0</td>\n",
       "      <td>male</td>\n",
       "      <td>2007</td>\n",
       "    </tr>\n",
       "    <tr>\n",
       "      <th>1</th>\n",
       "      <td>Adelie</td>\n",
       "      <td>Torgersen</td>\n",
       "      <td>39.5</td>\n",
       "      <td>17.4</td>\n",
       "      <td>186.0</td>\n",
       "      <td>3800.0</td>\n",
       "      <td>female</td>\n",
       "      <td>2007</td>\n",
       "    </tr>\n",
       "    <tr>\n",
       "      <th>2</th>\n",
       "      <td>Adelie</td>\n",
       "      <td>Torgersen</td>\n",
       "      <td>40.3</td>\n",
       "      <td>18.0</td>\n",
       "      <td>195.0</td>\n",
       "      <td>3250.0</td>\n",
       "      <td>female</td>\n",
       "      <td>2007</td>\n",
       "    </tr>\n",
       "    <tr>\n",
       "      <th>4</th>\n",
       "      <td>Adelie</td>\n",
       "      <td>Torgersen</td>\n",
       "      <td>36.7</td>\n",
       "      <td>19.3</td>\n",
       "      <td>193.0</td>\n",
       "      <td>3450.0</td>\n",
       "      <td>female</td>\n",
       "      <td>2007</td>\n",
       "    </tr>\n",
       "    <tr>\n",
       "      <th>5</th>\n",
       "      <td>Adelie</td>\n",
       "      <td>Torgersen</td>\n",
       "      <td>39.3</td>\n",
       "      <td>20.6</td>\n",
       "      <td>190.0</td>\n",
       "      <td>3650.0</td>\n",
       "      <td>male</td>\n",
       "      <td>2007</td>\n",
       "    </tr>\n",
       "  </tbody>\n",
       "</table>\n",
       "</div>"
      ],
      "text/plain": [
       "  species     island  bill_length_mm  bill_depth_mm  flipper_length_mm  \\\n",
       "0  Adelie  Torgersen            39.1           18.7              181.0   \n",
       "1  Adelie  Torgersen            39.5           17.4              186.0   \n",
       "2  Adelie  Torgersen            40.3           18.0              195.0   \n",
       "4  Adelie  Torgersen            36.7           19.3              193.0   \n",
       "5  Adelie  Torgersen            39.3           20.6              190.0   \n",
       "\n",
       "   body_mass_g     sex  year  \n",
       "0       3750.0    male  2007  \n",
       "1       3800.0  female  2007  \n",
       "2       3250.0  female  2007  \n",
       "4       3450.0  female  2007  \n",
       "5       3650.0    male  2007  "
      ]
     },
     "execution_count": 2,
     "metadata": {},
     "output_type": "execute_result"
    }
   ],
   "source": [
    "penguins_af = pd.read_csv('penguins_af.csv', index_col = 0)\n",
    "print(penguins_af.shape)\n",
    "penguins_af.head()"
   ]
  },
  {
   "cell_type": "code",
   "execution_count": 3,
   "metadata": {},
   "outputs": [],
   "source": [
    "f_names = ['bill_length_mm', 'bill_depth_mm','flipper_length_mm', 'body_mass_g']\n",
    "penguins = penguins_af[f_names + ['species']]\n",
    "penguins2C = penguins.loc[penguins['species'].isin(['Adelie','Chinstrap'])]"
   ]
  },
  {
   "cell_type": "code",
   "execution_count": 4,
   "metadata": {},
   "outputs": [
    {
     "data": {
      "text/plain": [
       "((166, 4), (167, 4))"
      ]
     },
     "execution_count": 4,
     "metadata": {},
     "output_type": "execute_result"
    }
   ],
   "source": [
    "# copy with modded values\n",
    "y = penguins.pop('species').values\n",
    "X_raw = penguins.values\n",
    "feature_names = penguins.columns\n",
    "X_tr_raw, X_ts_raw, y_train, y_test = train_test_split(X_raw, y, random_state=2, test_size=1/2)\n",
    "scaler = MinMaxScaler()\n",
    "X_train = scaler.fit_transform(X_tr_raw)\n",
    "X_test = scaler.transform(X_ts_raw)\n",
    "max_k = X_train.shape[1]\n",
    "X_train.shape, X_test.shape"
   ]
  },
  {
   "cell_type": "code",
   "execution_count": 5,
   "metadata": {},
   "outputs": [
    {
     "data": {
      "text/plain": [
       "((107, 4), (107, 4))"
      ]
     },
     "execution_count": 5,
     "metadata": {},
     "output_type": "execute_result"
    }
   ],
   "source": [
    "y = penguins2C.pop('species').values\n",
    "X_raw = penguins2C.values\n",
    "feature_names = penguins2C.columns\n",
    "X_tr_raw, X_ts_raw, y_train, y_test = train_test_split(X_raw, y, random_state=2, test_size=1/2)\n",
    "scaler = MinMaxScaler()\n",
    "X_train = scaler.fit_transform(X_tr_raw)\n",
    "X_test = scaler.transform(X_ts_raw)\n",
    "max_k = X_train.shape[1]\n",
    "X_train.shape, X_test.shape"
   ]
  },
  {
   "cell_type": "code",
   "execution_count": 6,
   "metadata": {},
   "outputs": [
    {
     "data": {
      "text/plain": [
       "array([[1.        , 0.40350877, 0.19444444, 0.44155844],\n",
       "       [0.55212355, 0.40350877, 0.47222222, 0.44155844],\n",
       "       [0.50579151, 0.19298246, 0.47222222, 0.20779221],\n",
       "       [0.27413127, 0.54385965, 0.44444444, 0.72727273],\n",
       "       [0.33590734, 0.50877193, 0.58333333, 0.54545455],\n",
       "       [0.03861004, 0.10526316, 0.11111111, 0.02597403],\n",
       "       [0.82625483, 0.77192982, 0.86111111, 0.85714286],\n",
       "       [0.54054054, 0.47368421, 0.11111111, 0.20779221],\n",
       "       [0.14671815, 0.19298246, 0.44444444, 0.1038961 ],\n",
       "       [0.27027027, 0.56140351, 0.19444444, 0.46753247],\n",
       "       [0.28571429, 0.40350877, 0.38888889, 0.23376623],\n",
       "       [0.25096525, 0.29824561, 0.69444444, 0.46753247],\n",
       "       [0.76833977, 0.61403509, 0.63888889, 0.67532468],\n",
       "       [0.13513514, 0.35087719, 0.47222222, 0.16883117],\n",
       "       [0.44015444, 0.45614035, 0.77777778, 0.28571429],\n",
       "       [0.21621622, 0.75438596, 0.66666667, 0.33766234],\n",
       "       [0.12355212, 0.59649123, 0.36111111, 0.49350649],\n",
       "       [0.2007722 , 0.87719298, 0.69444444, 0.48051948],\n",
       "       [0.71042471, 0.50877193, 0.72222222, 0.28571429],\n",
       "       [0.72586873, 0.42105263, 0.61111111, 0.42857143],\n",
       "       [0.72200772, 0.52631579, 0.75      , 0.83116883],\n",
       "       [0.55984556, 0.40350877, 0.52777778, 0.49350649],\n",
       "       [0.14671815, 0.64912281, 0.41666667, 0.49350649],\n",
       "       [0.36679537, 0.43859649, 0.5       , 0.57142857],\n",
       "       [0.52509653, 0.31578947, 0.52777778, 0.38961039],\n",
       "       [0.51351351, 0.56140351, 0.38888889, 0.35064935],\n",
       "       [0.46332046, 0.43859649, 1.        , 0.5974026 ],\n",
       "       [0.35521236, 0.98245614, 0.58333333, 0.80519481],\n",
       "       [0.21621622, 0.56140351, 0.16666667, 0.38961039],\n",
       "       [0.7992278 , 0.78947368, 0.86111111, 0.88311688],\n",
       "       [0.57528958, 0.31578947, 0.30555556, 0.44155844],\n",
       "       [0.28957529, 0.45614035, 0.33333333, 0.83116883],\n",
       "       [0.22007722, 0.78947368, 0.44444444, 0.72727273],\n",
       "       [0.42471042, 0.64912281, 0.63888889, 0.33766234],\n",
       "       [0.34749035, 0.63157895, 0.38888889, 0.64935065],\n",
       "       [0.18532819, 0.54385965, 0.41666667, 0.33766234],\n",
       "       [0.13127413, 0.35087719, 0.44444444, 0.44155844],\n",
       "       [0.34749035, 0.35087719, 0.44444444, 0.54545455],\n",
       "       [0.21235521, 0.26315789, 0.30555556, 0.38961039],\n",
       "       [0.25868726, 0.29824561, 0.16666667, 0.49350649],\n",
       "       [0.07335907, 0.28070175, 0.30555556, 0.28571429],\n",
       "       [0.33976834, 0.22807018, 0.47222222, 0.44155844],\n",
       "       [0.33204633, 0.26315789, 0.44444444, 0.45454545],\n",
       "       [0.13127413, 0.12280702, 0.58333333, 0.25974026],\n",
       "       [0.2972973 , 0.63157895, 0.27777778, 0.93506494],\n",
       "       [0.28957529, 0.57894737, 0.44444444, 0.90909091],\n",
       "       [0.2007722 , 0.22807018, 0.5       , 0.07792208],\n",
       "       [0.17760618, 0.57894737, 0.36111111, 0.49350649],\n",
       "       [0.74903475, 0.56140351, 0.36111111, 0.20779221],\n",
       "       [0.1969112 , 0.45614035, 0.11111111, 0.54545455],\n",
       "       [0.38996139, 0.52631579, 0.16666667, 0.36363636],\n",
       "       [0.91505792, 0.75438596, 0.91666667, 0.5974026 ],\n",
       "       [0.21621622, 0.0877193 , 0.25      , 0.11688312],\n",
       "       [0.26254826, 0.57894737, 0.44444444, 0.38961039],\n",
       "       [0.25096525, 0.26315789, 0.38888889, 0.02597403],\n",
       "       [0.52123552, 0.84210526, 0.47222222, 0.90909091],\n",
       "       [0.38610039, 0.63157895, 0.58333333, 0.5974026 ],\n",
       "       [0.35907336, 0.52631579, 0.77777778, 0.53246753],\n",
       "       [0.7953668 , 0.75438596, 0.63888889, 0.45454545],\n",
       "       [0.36293436, 0.52631579, 0.75      , 0.5974026 ],\n",
       "       [0.71428571, 0.68421053, 0.52777778, 0.49350649],\n",
       "       [0.72200772, 0.61403509, 1.        , 0.64935065],\n",
       "       [0.        , 0.        , 0.38888889, 0.1038961 ],\n",
       "       [0.18918919, 0.24561404, 0.30555556, 0.07792208],\n",
       "       [0.35907336, 0.54385965, 0.47222222, 0.44155844],\n",
       "       [0.4015444 , 0.31578947, 0.36111111, 0.25974026],\n",
       "       [0.18918919, 0.1754386 , 0.30555556, 0.28571429],\n",
       "       [0.26640927, 0.35087719, 0.33333333, 0.36363636],\n",
       "       [0.16988417, 0.19298246, 0.19444444, 0.        ],\n",
       "       [0.16216216, 0.70175439, 0.44444444, 0.49350649],\n",
       "       [0.71814672, 0.73684211, 0.80555556, 0.62337662],\n",
       "       [0.36293436, 0.49122807, 0.58333333, 0.75324675],\n",
       "       [0.66409266, 0.77192982, 0.80555556, 0.62337662],\n",
       "       [0.11196911, 0.42105263, 0.44444444, 0.31168831],\n",
       "       [0.15830116, 0.31578947, 0.36111111, 0.23376623],\n",
       "       [0.41312741, 0.52631579, 0.58333333, 0.72727273],\n",
       "       [0.52895753, 0.59649123, 0.63888889, 0.67532468],\n",
       "       [0.74517375, 0.61403509, 0.75      , 0.57142857],\n",
       "       [0.16602317, 0.28070175, 0.27777778, 0.        ],\n",
       "       [0.21235521, 0.66666667, 0.19444444, 0.23376623],\n",
       "       [0.46332046, 0.73684211, 0.61111111, 0.80519481],\n",
       "       [0.42857143, 0.61403509, 0.63888889, 1.        ],\n",
       "       [0.32818533, 0.57894737, 0.52777778, 0.49350649],\n",
       "       [0.38996139, 0.70175439, 0.63888889, 0.74025974],\n",
       "       [0.56370656, 0.42105263, 0.58333333, 0.23376623],\n",
       "       [0.27799228, 0.89473684, 0.44444444, 0.41558442],\n",
       "       [0.23166023, 0.26315789, 0.19444444, 0.16883117],\n",
       "       [0.63320463, 0.35087719, 0.47222222, 0.28571429],\n",
       "       [0.15057915, 0.52631579, 0.33333333, 0.12987013],\n",
       "       [0.31274131, 0.26315789, 0.05555556, 0.31168831],\n",
       "       [0.24710425, 0.42105263, 0.44444444, 0.24675325],\n",
       "       [0.74131274, 0.64912281, 0.52777778, 0.41558442],\n",
       "       [0.25868726, 0.78947368, 0.44444444, 0.57142857],\n",
       "       [0.37451737, 0.68421053, 0.66666667, 0.83116883],\n",
       "       [0.38223938, 0.70175439, 0.72222222, 0.62337662],\n",
       "       [0.52509653, 0.26315789, 0.58333333, 0.41558442],\n",
       "       [0.34362934, 0.78947368, 0.80555556, 0.97402597],\n",
       "       [0.85328185, 0.92982456, 0.75      , 0.75324675],\n",
       "       [0.7027027 , 0.78947368, 0.63888889, 0.23376623],\n",
       "       [0.34749035, 0.36842105, 0.22222222, 0.18181818],\n",
       "       [0.23166023, 0.1754386 , 0.66666667, 0.50649351],\n",
       "       [0.41698842, 0.36842105, 0.61111111, 0.96103896],\n",
       "       [0.39382239, 1.        , 0.47222222, 0.67532468],\n",
       "       [0.32432432, 0.42105263, 0.36111111, 0.18181818],\n",
       "       [0.15830116, 0.10526316, 0.36111111, 0.36363636],\n",
       "       [0.22007722, 0.49122807, 0.        , 0.28571429],\n",
       "       [0.42857143, 0.19298246, 0.36111111, 0.02597403]])"
      ]
     },
     "execution_count": 6,
     "metadata": {},
     "output_type": "execute_result"
    }
   ],
   "source": [
    "X_train"
   ]
  },
  {
   "cell_type": "markdown",
   "metadata": {},
   "source": [
    "## Gaussian NB\n",
    "Running Gaussian Naive Bayes on the penguin dataset."
   ]
  },
  {
   "cell_type": "code",
   "execution_count": 7,
   "metadata": {},
   "outputs": [
    {
     "data": {
      "text/plain": [
       "GaussianNB(priors=None, var_smoothing=1e-09)"
      ]
     },
     "execution_count": 7,
     "metadata": {},
     "output_type": "execute_result"
    }
   ],
   "source": [
    "gnb = GaussianNB()\n",
    "gnb.fit(X_train,y_train)"
   ]
  },
  {
   "cell_type": "code",
   "execution_count": 8,
   "metadata": {},
   "outputs": [
    {
     "data": {
      "text/plain": [
       "array(['Adelie', 'Chinstrap', 'Chinstrap', 'Adelie', 'Adelie', 'Adelie',\n",
       "       'Adelie', 'Chinstrap', 'Adelie', 'Adelie', 'Adelie', 'Adelie',\n",
       "       'Adelie', 'Adelie', 'Adelie', 'Adelie', 'Adelie', 'Adelie',\n",
       "       'Adelie', 'Chinstrap', 'Chinstrap', 'Adelie', 'Chinstrap',\n",
       "       'Adelie', 'Chinstrap', 'Chinstrap', 'Chinstrap', 'Chinstrap',\n",
       "       'Adelie', 'Adelie', 'Adelie', 'Chinstrap', 'Adelie', 'Adelie',\n",
       "       'Adelie', 'Adelie', 'Adelie', 'Adelie', 'Adelie', 'Adelie',\n",
       "       'Adelie', 'Adelie', 'Chinstrap', 'Adelie', 'Chinstrap', 'Adelie',\n",
       "       'Chinstrap', 'Chinstrap', 'Adelie', 'Adelie', 'Chinstrap',\n",
       "       'Adelie', 'Adelie', 'Adelie', 'Adelie', 'Chinstrap', 'Adelie',\n",
       "       'Adelie', 'Adelie', 'Adelie', 'Chinstrap', 'Adelie', 'Adelie',\n",
       "       'Adelie', 'Adelie', 'Adelie', 'Chinstrap', 'Adelie', 'Chinstrap',\n",
       "       'Adelie', 'Adelie', 'Chinstrap', 'Chinstrap', 'Adelie',\n",
       "       'Chinstrap', 'Adelie', 'Adelie', 'Chinstrap', 'Adelie',\n",
       "       'Chinstrap', 'Adelie', 'Chinstrap', 'Adelie', 'Adelie',\n",
       "       'Chinstrap', 'Chinstrap', 'Chinstrap', 'Adelie', 'Adelie',\n",
       "       'Adelie', 'Chinstrap', 'Adelie', 'Adelie', 'Chinstrap', 'Adelie',\n",
       "       'Adelie', 'Adelie', 'Chinstrap', 'Adelie', 'Chinstrap',\n",
       "       'Chinstrap', 'Adelie', 'Adelie', 'Adelie', 'Adelie', 'Adelie',\n",
       "       'Chinstrap'], dtype='<U9')"
      ]
     },
     "execution_count": 8,
     "metadata": {},
     "output_type": "execute_result"
    }
   ],
   "source": [
    "gnb.fit(X_train,y_train)\n",
    "gnb.predict(X_test)"
   ]
  },
  {
   "cell_type": "code",
   "execution_count": 9,
   "metadata": {
    "scrolled": true
   },
   "outputs": [
    {
     "data": {
      "text/plain": [
       "0.9626168224299065"
      ]
     },
     "execution_count": 9,
     "metadata": {},
     "output_type": "execute_result"
    }
   ],
   "source": [
    "gnb.score(X_test, y_test)"
   ]
  },
  {
   "cell_type": "markdown",
   "metadata": {},
   "source": [
    "## Majority Class Classifier\n",
    "An implementation of a Majority Class Classifier that fits the framework."
   ]
  },
  {
   "cell_type": "code",
   "execution_count": 10,
   "metadata": {},
   "outputs": [],
   "source": [
    "class MyMCC(BaseEstimator, ClassifierMixin):          \n",
    "    def fit(self, X, y):\n",
    "        self.X = X\n",
    "        self.y = y\n",
    "        \n",
    "        c_dict = Counter(self.y)\n",
    "        self.most_freq = max(c_dict, key=c_dict.get)\n",
    "        print(c_dict, self.most_freq)\n",
    "        return self\n",
    "    \n",
    "    # The predictions are the most common class in the training set.\n",
    "    def predict(self, Xtes):\n",
    "        self.Xtes = Xtes\n",
    "        n_test = self.Xtes.shape[0]\n",
    "        ytes = np.full((n_test), self.most_freq)\n",
    "        return ytes\n",
    "    \n",
    "    def predict_proba(self, Xtes):\n",
    "        pass\n",
    "    # We should really be implementing predict_proba as well. "
   ]
  },
  {
   "cell_type": "code",
   "execution_count": 11,
   "metadata": {},
   "outputs": [],
   "source": [
    "# check_estimator(MyMCC())"
   ]
  },
  {
   "cell_type": "code",
   "execution_count": 12,
   "metadata": {},
   "outputs": [],
   "source": [
    "mcc = MyMCC()"
   ]
  },
  {
   "cell_type": "code",
   "execution_count": 38,
   "metadata": {},
   "outputs": [
    {
     "name": "stdout",
     "output_type": "stream",
     "text": [
      "Counter({'Adelie': 76, 'Chinstrap': 31}) Adelie\n"
     ]
    },
    {
     "data": {
      "text/plain": [
       "MyMCC()"
      ]
     },
     "execution_count": 38,
     "metadata": {},
     "output_type": "execute_result"
    }
   ],
   "source": [
    "mcc.fit(X_train,y_train)"
   ]
  },
  {
   "cell_type": "code",
   "execution_count": 39,
   "metadata": {},
   "outputs": [
    {
     "data": {
      "text/plain": [
       "array(['Adelie', 'Adelie', 'Adelie', 'Adelie', 'Adelie', 'Adelie',\n",
       "       'Adelie', 'Adelie', 'Adelie', 'Adelie', 'Adelie', 'Adelie',\n",
       "       'Adelie', 'Adelie', 'Adelie', 'Adelie', 'Adelie', 'Adelie',\n",
       "       'Adelie', 'Adelie', 'Adelie', 'Adelie', 'Adelie', 'Adelie',\n",
       "       'Adelie', 'Adelie', 'Adelie', 'Adelie', 'Adelie', 'Adelie',\n",
       "       'Adelie', 'Adelie', 'Adelie', 'Adelie', 'Adelie', 'Adelie',\n",
       "       'Adelie', 'Adelie', 'Adelie', 'Adelie', 'Adelie', 'Adelie',\n",
       "       'Adelie', 'Adelie', 'Adelie', 'Adelie', 'Adelie', 'Adelie',\n",
       "       'Adelie', 'Adelie', 'Adelie', 'Adelie', 'Adelie', 'Adelie',\n",
       "       'Adelie', 'Adelie', 'Adelie', 'Adelie', 'Adelie', 'Adelie',\n",
       "       'Adelie', 'Adelie', 'Adelie', 'Adelie', 'Adelie', 'Adelie',\n",
       "       'Adelie', 'Adelie', 'Adelie', 'Adelie', 'Adelie', 'Adelie',\n",
       "       'Adelie', 'Adelie', 'Adelie', 'Adelie', 'Adelie', 'Adelie',\n",
       "       'Adelie', 'Adelie', 'Adelie', 'Adelie', 'Adelie', 'Adelie',\n",
       "       'Adelie', 'Adelie', 'Adelie', 'Adelie', 'Adelie', 'Adelie',\n",
       "       'Adelie', 'Adelie', 'Adelie', 'Adelie', 'Adelie', 'Adelie',\n",
       "       'Adelie', 'Adelie', 'Adelie', 'Adelie', 'Adelie', 'Adelie',\n",
       "       'Adelie', 'Adelie', 'Adelie', 'Adelie', 'Adelie'], dtype='<U6')"
      ]
     },
     "execution_count": 39,
     "metadata": {},
     "output_type": "execute_result"
    }
   ],
   "source": [
    "mcc.predict(X_test)"
   ]
  },
  {
   "cell_type": "markdown",
   "metadata": {},
   "source": [
    "The `score` method is inherited from `ClassifierMixin`."
   ]
  },
  {
   "cell_type": "code",
   "execution_count": 40,
   "metadata": {},
   "outputs": [
    {
     "data": {
      "text/plain": [
       "0.6542056074766355"
      ]
     },
     "execution_count": 40,
     "metadata": {},
     "output_type": "execute_result"
    }
   ],
   "source": [
    "mcc.score(X_test, y_test)"
   ]
  },
  {
   "cell_type": "code",
   "execution_count": 41,
   "metadata": {},
   "outputs": [
    {
     "data": {
      "text/plain": [
       "array([0.63636364, 0.63636364, 0.66666667, 0.66666667, 0.66666667])"
      ]
     },
     "execution_count": 41,
     "metadata": {},
     "output_type": "execute_result"
    }
   ],
   "source": [
    "cross_val_score(mcc, X_test, y_test, cv=5, scoring='accuracy', n_jobs=-1)"
   ]
  },
  {
   "cell_type": "code",
   "execution_count": null,
   "metadata": {},
   "outputs": [],
   "source": [
    "# penguins\n",
    "models = [gaussianPenguin, myPenguin]\n",
    "for m in models:\n",
    "    print(m)\n",
    "    accuracy = cross_val_score(m, penguins, y_penguins, cv=5, scoring='accuracy', n_jobs=-1)\n",
    "    print(accuracy)"
   ]
  }
 ],
 "metadata": {
  "kernelspec": {
   "display_name": "Python 3",
   "language": "python",
   "name": "python3"
  },
  "language_info": {
   "codemirror_mode": {
    "name": "ipython",
    "version": 3
   },
   "file_extension": ".py",
   "mimetype": "text/x-python",
   "name": "python",
   "nbconvert_exporter": "python",
   "pygments_lexer": "ipython3",
   "version": "3.7.6"
  }
 },
 "nbformat": 4,
 "nbformat_minor": 4
}
